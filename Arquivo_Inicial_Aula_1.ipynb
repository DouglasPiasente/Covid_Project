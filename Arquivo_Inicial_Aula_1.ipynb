{
  "cells": [
    {
      "cell_type": "markdown",
      "metadata": {
        "id": "view-in-github",
        "colab_type": "text"
      },
      "source": [
        "<a href=\"https://colab.research.google.com/github/DouglasPiasente/Covid_Project/blob/main/Arquivo_Inicial_Aula_1.ipynb\" target=\"_parent\"><img src=\"https://colab.research.google.com/assets/colab-badge.svg\" alt=\"Open In Colab\"/></a>"
      ]
    },
    {
      "cell_type": "markdown",
      "metadata": {
        "id": "CNATzgoNm8F1"
      },
      "source": [
        "# Automação de Sistemas e Processos com Python\n",
        "\n",
        "### Desafio:\n",
        "\n",
        "Todos os dias, o nosso sistema atualiza as vendas do dia anterior.\n",
        "O seu trabalho diário, como analista, é enviar um e-mail para a diretoria, assim que começar a trabalhar, com o faturamento e a quantidade de produtos vendidos no dia anterior\n",
        "\n",
        "E-mail da diretoria: seugmail+diretoria@gmail.com<br>\n",
        "Local onde o sistema disponibiliza as vendas do dia anterior: https://drive.google.com/drive/folders/149xknr9JvrlEnhNWO49zPcw0PW5icxga?usp=sharing\n",
        "\n",
        "Para resolver isso, vamos usar o pyautogui, uma biblioteca de automação de comandos do mouse e do teclado"
      ]
    },
    {
      "cell_type": "code",
      "execution_count": null,
      "metadata": {
        "id": "4Lp0O6wNm8F3"
      },
      "outputs": [],
      "source": []
    },
    {
      "cell_type": "markdown",
      "metadata": {
        "id": "-k-I4twym8F4"
      },
      "source": [
        "### Vamos agora ler o arquivo baixado para pegar os indicadores\n",
        "\n",
        "- Faturamento\n",
        "- Quantidade de Produtos"
      ]
    },
    {
      "cell_type": "code",
      "execution_count": null,
      "metadata": {
        "id": "dradQ1c6m8F5"
      },
      "outputs": [],
      "source": []
    },
    {
      "cell_type": "markdown",
      "metadata": {
        "id": "HgksNrUKm8F5"
      },
      "source": [
        "### Vamos agora enviar um e-mail pelo gmail"
      ]
    },
    {
      "cell_type": "code",
      "execution_count": null,
      "metadata": {
        "id": "2_sDp91em8F6"
      },
      "outputs": [],
      "source": []
    },
    {
      "cell_type": "markdown",
      "metadata": {
        "id": "uqj3L9dum8F6"
      },
      "source": [
        "#### Use esse código para descobrir qual a posição de um item que queira clicar\n",
        "\n",
        "- Lembre-se: a posição na sua tela é diferente da posição na minha tela"
      ]
    },
    {
      "cell_type": "code",
      "execution_count": null,
      "metadata": {
        "id": "AzHBBb-xm8F7"
      },
      "outputs": [],
      "source": []
    }
  ],
  "metadata": {
    "kernelspec": {
      "display_name": "Python 3",
      "language": "python",
      "name": "python3"
    },
    "language_info": {
      "codemirror_mode": {
        "name": "ipython",
        "version": 3
      },
      "file_extension": ".py",
      "mimetype": "text/x-python",
      "name": "python",
      "nbconvert_exporter": "python",
      "pygments_lexer": "ipython3",
      "version": "3.8.8"
    },
    "colab": {
      "provenance": [],
      "include_colab_link": true
    }
  },
  "nbformat": 4,
  "nbformat_minor": 0
}